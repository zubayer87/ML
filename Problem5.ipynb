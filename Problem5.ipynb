{
  "nbformat": 4,
  "nbformat_minor": 0,
  "metadata": {
    "colab": {
      "name": "Problem5.ipynb",
      "version": "0.3.2",
      "provenance": [],
      "collapsed_sections": [],
      "include_colab_link": true
    },
    "kernelspec": {
      "name": "python3",
      "display_name": "Python 3"
    },
    "accelerator": "GPU"
  },
  "cells": [
    {
      "cell_type": "markdown",
      "metadata": {
        "id": "view-in-github",
        "colab_type": "text"
      },
      "source": [
        "<a href=\"https://colab.research.google.com/github/zubayer87/ML/blob/master/Problem5.ipynb\" target=\"_parent\"><img src=\"https://colab.research.google.com/assets/colab-badge.svg\" alt=\"Open In Colab\"/></a>"
      ]
    },
    {
      "metadata": {
        "id": "NvXNmyuppCmZ",
        "colab_type": "code",
        "colab": {}
      },
      "cell_type": "code",
      "source": [
        "from keras.datasets import mnist\n",
        "import numpy as np\n",
        "(train_images, train_labels), (test_images, test_labels) = mnist.load_data()\n",
        "\n",
        "train_images = train_images.astype('float32') / 255\n",
        "test_images = test_images.astype('float32') / 255\n",
        "train_images = np.where(train_images<0.5,0,1)"
      ],
      "execution_count": 0,
      "outputs": []
    },
    {
      "metadata": {
        "id": "tzmKGGcCpoTS",
        "colab_type": "code",
        "colab": {}
      },
      "cell_type": "code",
      "source": [
        "def dfs(x,y):\n",
        "  if V[x,y] == 0:\n",
        "    \n",
        "    V[x,y] = 1\n",
        "    \n",
        "    if x+1<=27 and x+1>=0 and y>=0 and y<=27:\n",
        "      dfs(x+1,y)\n",
        "    if x+1<=27 and x+1>=0 and y-1>=0 and y-1<=27:\n",
        "      dfs(x+1,y-1)\n",
        "    if x+1<=27 and x+1>=0 and y+1>=0 and y+1<=27:\n",
        "      dfs(x+1,y+1)\n",
        "\n",
        "    if x-1<=27 and x-1>=0 and y>=0 and y<=27:\n",
        "      dfs(x-1,y)\n",
        "    if x-1<=27 and x-1>=0 and y+1>=0 and y+1<=27:\n",
        "      dfs(x-1,y+1)\n",
        "    if x-1<=27 and x-1>=0 and y-1>=0 and y-1<=27:\n",
        "      dfs(x-1,y-1)\n",
        "\n",
        "\n",
        "    if x<=27 and x>=0 and y-1>=0 and y-1<=27:\n",
        "      dfs(x,y-1)\n",
        "    if x<=27 and x>=0 and y+1>=0 and y+1<=27:\n",
        "      dfs(x,y+1)\n",
        "\n",
        "       "
      ],
      "execution_count": 0,
      "outputs": []
    },
    {
      "metadata": {
        "id": "4ka5sTx6YnXU",
        "colab_type": "code",
        "colab": {}
      },
      "cell_type": "code",
      "source": [
        "for p in range(60000):\n",
        "  V = train_images[p]\n",
        "  white_regions = np.zeros((train_images.shape[0],1))\n",
        "  for i in range(28):\n",
        "    for j in range(28):\n",
        "      #if white, start DFS and continue till all are black\n",
        "      if V[i,j] == 0:\n",
        "        white_regions[p] +=1\n",
        "        #print(white_regions)\n",
        "        dfs(i,j)\n"
      ],
      "execution_count": 0,
      "outputs": []
    },
    {
      "metadata": {
        "id": "WiZadoNn4aRI",
        "colab_type": "code",
        "colab": {}
      },
      "cell_type": "code",
      "source": [
        "for q in range(10000):\n",
        "  V = test_images[q]\n",
        "  white_regions_test = np.zeros((test_images.shape[0],1))\n",
        "  for i in range(28):\n",
        "    for j in range(28):\n",
        "      #if white DFS start and continue till all are black\n",
        "      if V[i,j] == 0:\n",
        "        white_regions_test[q] +=1\n",
        "        #print(white_regions)\n",
        "        dfs(i,j)"
      ],
      "execution_count": 0,
      "outputs": []
    },
    {
      "metadata": {
        "id": "AItxfxfwxI8D",
        "colab_type": "code",
        "colab": {}
      },
      "cell_type": "code",
      "source": [
        "(train_images, train_labels), (test_images, test_labels) = mnist.load_data()\n",
        "\n",
        "train_images = train_images.astype('float32') / 255\n",
        "test_images = test_images.astype('float32') / 255\n",
        "\n",
        "train_images = train_images.reshape(60000, 784)\n",
        "test_images = test_images.reshape(10000, 784)"
      ],
      "execution_count": 0,
      "outputs": []
    },
    {
      "metadata": {
        "id": "RFGW_NetfDam",
        "colab_type": "code",
        "outputId": "b706e9d2-cae8-49e7-d767-b2ff72e4805a",
        "colab": {
          "base_uri": "https://localhost:8080/",
          "height": 34
        }
      },
      "cell_type": "code",
      "source": [
        "train_images_dfs = np.append(train_images, white_regions/3, axis=1)\n",
        "test_images_dfs = np.append(test_images, white_regions_test/3, axis=1)\n",
        "train_images_dfs.shape"
      ],
      "execution_count": 27,
      "outputs": [
        {
          "output_type": "execute_result",
          "data": {
            "text/plain": [
              "(60000, 785)"
            ]
          },
          "metadata": {
            "tags": []
          },
          "execution_count": 27
        }
      ]
    },
    {
      "metadata": {
        "id": "7llHkVd0htoH",
        "colab_type": "code",
        "outputId": "c78d1522-c62f-4ea5-fc63-c5819ba231ae",
        "colab": {
          "base_uri": "https://localhost:8080/",
          "height": 221
        }
      },
      "cell_type": "code",
      "source": [
        "\n",
        "\n",
        "from keras.models import Sequential\n",
        "from keras.layers import Dense, Activation\n",
        "\n",
        "model = Sequential()\n",
        "model.add(Dense(10, input_dim=785))\n",
        "model.add(Activation('softmax'))\n",
        "model.compile(loss='categorical_crossentropy',\n",
        "              optimizer='sgd',\n",
        "              metrics=['accuracy'])\n",
        "\n",
        "from keras.utils import np_utils\n",
        "one_hot_labels_train_labels= np_utils.to_categorical(train_labels, num_classes=10)\n",
        "one_hot_labels_test_labels= np_utils.to_categorical(test_labels, num_classes=10)\n",
        "\n",
        "model.fit(train_images_dfs, one_hot_labels_train_labels, epochs=5, batch_size=32)\n",
        "\n",
        "loss_and_metrics = model.evaluate(test_images_dfs, one_hot_labels_test_labels, batch_size=32)\n",
        "\n",
        "loss_and_metrics"
      ],
      "execution_count": 28,
      "outputs": [
        {
          "output_type": "stream",
          "text": [
            "Epoch 1/5\n",
            "60000/60000 [==============================] - 6s 93us/step - loss: 0.7740 - acc: 0.8167\n",
            "Epoch 2/5\n",
            "60000/60000 [==============================] - 6s 96us/step - loss: 0.4551 - acc: 0.8804\n",
            "Epoch 3/5\n",
            "60000/60000 [==============================] - 6s 95us/step - loss: 0.4028 - acc: 0.8909\n",
            "Epoch 4/5\n",
            "60000/60000 [==============================] - 6s 95us/step - loss: 0.3763 - acc: 0.8966\n",
            "Epoch 5/5\n",
            "60000/60000 [==============================] - 6s 95us/step - loss: 0.3597 - acc: 0.9006\n",
            "10000/10000 [==============================] - 1s 50us/step\n"
          ],
          "name": "stdout"
        },
        {
          "output_type": "execute_result",
          "data": {
            "text/plain": [
              "[0.3346236880302429, 0.9092]"
            ]
          },
          "metadata": {
            "tags": []
          },
          "execution_count": 28
        }
      ]
    },
    {
      "metadata": {
        "id": "3c14duD4kcXK",
        "colab_type": "code",
        "colab": {}
      },
      "cell_type": "code",
      "source": [
        ""
      ],
      "execution_count": 0,
      "outputs": []
    }
  ]
}