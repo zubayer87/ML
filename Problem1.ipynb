{
  "nbformat": 4,
  "nbformat_minor": 0,
  "metadata": {
    "colab": {
      "name": "Problem1.ipynb",
      "version": "0.3.2",
      "provenance": [],
      "include_colab_link": true
    },
    "kernelspec": {
      "name": "python3",
      "display_name": "Python 3"
    }
  },
  "cells": [
    {
      "cell_type": "markdown",
      "metadata": {
        "id": "view-in-github",
        "colab_type": "text"
      },
      "source": [
        "<a href=\"https://colab.research.google.com/github/zubayer87/ML/blob/master/Problem1.ipynb\" target=\"_parent\"><img src=\"https://colab.research.google.com/assets/colab-badge.svg\" alt=\"Open In Colab\"/></a>"
      ]
    },
    {
      "metadata": {
        "id": "R25fxzrmqqZp",
        "colab_type": "code",
        "colab": {}
      },
      "cell_type": "code",
      "source": [
        ""
      ],
      "execution_count": 0,
      "outputs": []
    },
    {
      "metadata": {
        "id": "EzkWkCIHq9rR",
        "colab_type": "text"
      },
      "cell_type": "markdown",
      "source": [
        "## **Detect 0 from all digits**"
      ]
    },
    {
      "metadata": {
        "id": "2HFOjGXXrC2_",
        "colab_type": "code",
        "outputId": "b8cdd253-66fc-4064-d3a5-112c603f2342",
        "colab": {
          "base_uri": "https://localhost:8080/",
          "height": 408
        }
      },
      "cell_type": "code",
      "source": [
        "for p in range(10):\n",
        "  from keras.datasets import mnist\n",
        "  import numpy as np\n",
        "  from random import shuffle\n",
        "\n",
        "  (train_images, train_labels), (test_images, test_labels) = mnist.load_data()\n",
        "  train_images = train_images.reshape(60000, 784)\n",
        "  test_images = test_images.reshape(10000, 784)\n",
        "  train_images = train_images.astype('float32') / 255\n",
        "  test_images = test_images.astype('float32') / 255\n",
        "\n",
        "  #one hot encoding\n",
        "  #for 0\n",
        "  train_labels = np.where(train_labels == p,1,0)\n",
        "  test_labels = np.where(test_labels == p,1,0)\n",
        "  train_labels = train_labels.reshape(60000,1)\n",
        "  test_labels = test_labels.reshape(10000,1)\n",
        "\n",
        "\n",
        "  w = np.zeros((train_images.shape[1],1))\n",
        "  b = 0\n",
        "\n",
        "  learning_rate = 0.001\n",
        "\n",
        "  ind_list = [i for i in range(60000)]\n",
        "  shuffle(ind_list)\n",
        "  train_images  = train_images[ind_list, :]\n",
        "  train_labels = train_labels[ind_list,]\n",
        "\n",
        "  for i in range(10):  \n",
        "    minibatch_size = 40\n",
        "    for i in range(0, train_images.shape[0], minibatch_size):\n",
        "\n",
        "      X_train = train_images[i:i+minibatch_size]\n",
        "      y_train = train_labels[i:i+minibatch_size]\n",
        "\n",
        "      z = np.dot(X_train, w) + b\n",
        "      a = 1/(1+np.exp(-z))\n",
        "\n",
        "\n",
        "      loss = -1/minibatch_size*np.sum(a-y_train)\n",
        "      dw = 1/minibatch_size*np.dot(X_train.T, ((a-y_train)*(a)*(1-a)))\n",
        "      db =  1/minibatch_size*np.sum((a-y_train)*(a)*(1-a))\n",
        "\n",
        "      w = w - learning_rate*dw\n",
        "      b = b - learning_rate*db\n",
        "\n",
        "    #print(loss)\n",
        "\n",
        "  z_train = np.dot(train_images,w)+b\n",
        "  a_train = 1/(1+np.exp(-z_train))\n",
        "  y = np.where(a_train<0.5,0,1)\n",
        "  print(\"train accuracy (detect \",p,\" from the rest): {} %\".format(100 - np.mean(np.abs(y - train_labels)) * 100))\n",
        "  z_test = np.dot(test_images,w) + b\n",
        "  a_test = 1/(1+np.exp(-z_test))\n",
        "  Y_pred = np.where(a_test < 0.5,0,1)\n",
        "  print(\"test accuracy: {} %\".format(100 - np.mean(np.abs(Y_pred - test_labels)) * 100))"
      ],
      "execution_count": 1,
      "outputs": [
        {
          "output_type": "stream",
          "text": [
            "Using TensorFlow backend.\n"
          ],
          "name": "stderr"
        },
        {
          "output_type": "stream",
          "text": [
            "Downloading data from https://s3.amazonaws.com/img-datasets/mnist.npz\n",
            "11493376/11490434 [==============================] - 0s 0us/step\n",
            "train accuracy (detect  0  from the rest): 97.27166666666666 %\n",
            "test accuracy: 97.45 %\n",
            "train accuracy (detect  1  from the rest): 97.795 %\n",
            "test accuracy: 97.99 %\n",
            "train accuracy (detect  2  from the rest): 93.09833333333333 %\n",
            "test accuracy: 92.85 %\n",
            "train accuracy (detect  3  from the rest): 93.24 %\n",
            "test accuracy: 93.4 %\n",
            "train accuracy (detect  4  from the rest): 93.08666666666667 %\n",
            "test accuracy: 93.08 %\n",
            "train accuracy (detect  5  from the rest): 90.965 %\n",
            "test accuracy: 91.08 %\n",
            "train accuracy (detect  6  from the rest): 95.68 %\n",
            "test accuracy: 95.94 %\n",
            "train accuracy (detect  7  from the rest): 95.95 %\n",
            "test accuracy: 96.0 %\n",
            "train accuracy (detect  8  from the rest): 90.24833333333333 %\n",
            "test accuracy: 90.26 %\n",
            "train accuracy (detect  9  from the rest): 90.085 %\n",
            "test accuracy: 89.91 %\n"
          ],
          "name": "stdout"
        }
      ]
    },
    {
      "metadata": {
        "id": "3oDwzuu6uz1D",
        "colab_type": "code",
        "colab": {}
      },
      "cell_type": "code",
      "source": [
        ""
      ],
      "execution_count": 0,
      "outputs": []
    }
  ]
}