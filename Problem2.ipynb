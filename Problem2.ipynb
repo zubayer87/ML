{
  "nbformat": 4,
  "nbformat_minor": 0,
  "metadata": {
    "colab": {
      "name": "Problem2.ipynb",
      "version": "0.3.2",
      "provenance": [],
      "collapsed_sections": [],
      "include_colab_link": true
    },
    "kernelspec": {
      "name": "python3",
      "display_name": "Python 3"
    },
    "accelerator": "GPU"
  },
  "cells": [
    {
      "cell_type": "markdown",
      "metadata": {
        "id": "view-in-github",
        "colab_type": "text"
      },
      "source": [
        "<a href=\"https://colab.research.google.com/github/zubayer87/ML/blob/master/Problem2.ipynb\" target=\"_parent\"><img src=\"https://colab.research.google.com/assets/colab-badge.svg\" alt=\"Open In Colab\"/></a>"
      ]
    },
    {
      "metadata": {
        "id": "2i2928svosnA",
        "colab_type": "text"
      },
      "cell_type": "markdown",
      "source": [
        "## **Detect a digit with binary cross entropy loss**"
      ]
    },
    {
      "metadata": {
        "id": "PXQ1fweVWVAF",
        "colab_type": "code",
        "outputId": "c4ed4b03-ed35-447f-f304-5b54eac75e82",
        "colab": {
          "base_uri": "https://localhost:8080/",
          "height": 357
        }
      },
      "cell_type": "code",
      "source": [
        "for p in range(10):  \n",
        "  from keras.datasets import mnist\n",
        "  import numpy as np\n",
        "  from random import shuffle\n",
        "\n",
        "  (train_images, train_labels), (test_images, test_labels) = mnist.load_data()\n",
        "  train_images = train_images.reshape(60000, 784)\n",
        "  test_images = test_images.reshape(10000, 784)\n",
        "  train_images = train_images.astype('float32') / 255\n",
        "  test_images = test_images.astype('float32') / 255\n",
        "\n",
        "  #one hot encoding\n",
        "  #for 0\n",
        "  train_labels = np.where(train_labels == p,1,0)\n",
        "  test_labels = np.where(test_labels == p,1,0)\n",
        "  train_labels = train_labels.reshape(60000,1)\n",
        "  test_labels = test_labels.reshape(10000,1)\n",
        "\n",
        "\n",
        "  w = np.zeros((train_images.shape[1],1))\n",
        "  b = 0\n",
        "\n",
        "  learning_rate = 0.001\n",
        "\n",
        "  ind_list = [i for i in range(60000)]\n",
        "  shuffle(ind_list)\n",
        "  train_images  = train_images[ind_list, :]\n",
        "  train_labels = train_labels[ind_list,]\n",
        "\n",
        "  for i in range(10):  \n",
        "    minibatch_size = 10\n",
        "    for i in range(0, train_images.shape[0], minibatch_size):\n",
        "\n",
        "      X_train = train_images[i:i+minibatch_size]\n",
        "      y_train = train_labels[i:i+minibatch_size]\n",
        "\n",
        "      z = np.dot(X_train, w) + b\n",
        "      a = 1/(1+np.exp(-z))\n",
        "\n",
        "      loss =  -1/minibatch_size*np.sum((y_train*np.log(a))+((1-y_train)*np.log(1-a)))                 \n",
        "      dw = 1/minibatch_size*np.dot(X_train.T, (a-y_train))\n",
        "      db =  1/minibatch_size*np.sum(a-y_train)\n",
        "\n",
        "      w = w - learning_rate*dw\n",
        "      b = b - learning_rate*db\n",
        "\n",
        "    #print(loss)\n",
        "\n",
        "  z_train = np.dot(train_images,w)+b\n",
        "  a_train = 1/(1+np.exp(-z_train))\n",
        "  y = np.where(a_train<0.5,0,1)\n",
        "  print(\"train accuracy (detect \",p,\" from the rest): {} %\".format(100 - np.mean(np.abs(y - train_labels)) * 100))\n",
        "  z_test = np.dot(test_images,w) + b\n",
        "  a_test = 1/(1+np.exp(-z_test))\n",
        "  Y_pred = np.where(a_test < 0.5,0,1)\n",
        "  print(\"test accuracy: {} %\".format(100 - np.mean(np.abs(Y_pred - test_labels)) * 100))"
      ],
      "execution_count": 2,
      "outputs": [
        {
          "output_type": "stream",
          "text": [
            "train accuracy (detect  0  from the rest): 98.785 %\n",
            "test accuracy: 99.02 %\n",
            "train accuracy (detect  1  from the rest): 98.76166666666667 %\n",
            "test accuracy: 99.01 %\n",
            "train accuracy (detect  2  from the rest): 97.245 %\n",
            "test accuracy: 97.45 %\n",
            "train accuracy (detect  3  from the rest): 96.74333333333334 %\n",
            "test accuracy: 97.16 %\n",
            "train accuracy (detect  4  from the rest): 97.73 %\n",
            "test accuracy: 97.62 %\n",
            "train accuracy (detect  5  from the rest): 96.04666666666667 %\n",
            "test accuracy: 96.26 %\n",
            "train accuracy (detect  6  from the rest): 98.29 %\n",
            "test accuracy: 98.17 %\n",
            "train accuracy (detect  7  from the rest): 98.04666666666667 %\n",
            "test accuracy: 98.15 %\n",
            "train accuracy (detect  8  from the rest): 94.83666666666667 %\n",
            "test accuracy: 94.7 %\n",
            "train accuracy (detect  9  from the rest): 95.535 %\n",
            "test accuracy: 95.74 %\n"
          ],
          "name": "stdout"
        }
      ]
    }
  ]
}