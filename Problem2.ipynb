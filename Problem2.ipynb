{
  "nbformat": 4,
  "nbformat_minor": 0,
  "metadata": {
    "colab": {
      "name": "Problem2.ipynb",
      "version": "0.3.2",
      "provenance": [],
      "include_colab_link": true
    },
    "kernelspec": {
      "name": "python3",
      "display_name": "Python 3"
    },
    "accelerator": "GPU"
  },
  "cells": [
    {
      "cell_type": "markdown",
      "metadata": {
        "id": "view-in-github",
        "colab_type": "text"
      },
      "source": [
        "<a href=\"https://colab.research.google.com/github/zubayer87/ML/blob/master/Problem2.ipynb\" target=\"_parent\"><img src=\"https://colab.research.google.com/assets/colab-badge.svg\" alt=\"Open In Colab\"/></a>"
      ]
    },
    {
      "metadata": {
        "id": "heya_XmdQhq6",
        "colab_type": "code",
        "colab": {}
      },
      "cell_type": "code",
      "source": [
        "from keras.datasets import mnist\n",
        "(train_images, train_labels), (test_images, test_labels) = mnist.load_data()\n",
        "train_images = train_images.reshape(60000, 784)\n",
        "test_images = test_images.reshape(10000, 784)\n",
        "train_images = train_images.astype('float32') / 255\n",
        "test_images = test_images.astype('float32') / 255"
      ],
      "execution_count": 0,
      "outputs": []
    },
    {
      "metadata": {
        "id": "PXQ1fweVWVAF",
        "colab_type": "code",
        "colab": {}
      },
      "cell_type": "code",
      "source": [
        "import numpy as np\n",
        "w = np.zeros((train_images.shape[1],1))\n",
        "b = 0\n",
        "\n",
        "#one hot encoding\n",
        "#for 0\n",
        "train_labels = np.where(train_labels == 0,1,0)\n",
        "\n",
        "test_labels = np.where(test_labels == 0,1,0)"
      ],
      "execution_count": 0,
      "outputs": []
    },
    {
      "metadata": {
        "id": "7Tnq5RaRT6ER",
        "colab_type": "code",
        "colab": {}
      },
      "cell_type": "code",
      "source": [
        "learning_rate = 0.5\n",
        "\n",
        "from random import shuffle\n",
        "ind_list = [i for i in range(60000)]\n",
        "shuffle(ind_list)\n",
        "train_images  = train_images[ind_list, :]\n",
        "train_labels = train_labels[ind_list,]"
      ],
      "execution_count": 0,
      "outputs": []
    },
    {
      "metadata": {
        "id": "aDM4F4sBn2Db",
        "colab_type": "code",
        "colab": {
          "base_uri": "https://localhost:8080/",
          "height": 1479
        },
        "outputId": "ece2bc16-0b78-4ae8-ce3f-22f9d6186235"
      },
      "cell_type": "code",
      "source": [
        "for i in range(100):  \n",
        "  minibatch_size = 10\n",
        "  for i in range(0, train_images.shape[0], minibatch_size):\n",
        "    X_train = train_images[i:i+minibatch_size]\n",
        "    y_train = train_labels[i:i+minibatch_size]\n",
        "    z = np.dot(X_train, w) + b\n",
        "    a = 1/(1+np.exp(-z))\n",
        "    loss =  -1/minibatch_size*np.sum((y_train*np.log(a))+((1-y_train)*np.log(1-a)))                 \n",
        "    dw = 1/minibatch_size*np.dot(X_train.T, (a-y_train))\n",
        "    db =  1/minibatch_size*np.sum(a-y_train)\n",
        "\n",
        "    w = w - learning_rate*dw\n",
        "    b = b - learning_rate*db\n",
        "  \n",
        "  print(loss)"
      ],
      "execution_count": 0,
      "outputs": [
        {
          "output_type": "stream",
          "text": [
            "/usr/local/lib/python3.6/dist-packages/ipykernel_launcher.py:17: RuntimeWarning: divide by zero encountered in log\n",
            "/usr/local/lib/python3.6/dist-packages/ipykernel_launcher.py:17: RuntimeWarning: invalid value encountered in multiply\n"
          ],
          "name": "stderr"
        },
        {
          "output_type": "stream",
          "text": [
            "8.335173258197415\n",
            "8.123202505075643\n",
            "8.010146330342009\n",
            "7.949710879160188\n",
            "7.911098643103211\n",
            "7.879537845458525\n",
            "7.8501698060074006\n",
            "7.8210768166980955\n",
            "7.791810032590509\n",
            "7.762793686908726\n",
            "7.734633242742454\n",
            "7.707805236200851\n",
            "7.68262839278815\n",
            "7.659293656988982\n",
            "7.637896902416253\n",
            "7.618476353252695\n",
            "7.601041117522475\n",
            "7.585583830679923\n",
            "7.572075522460844\n",
            "7.560453273014653\n",
            "7.550610438984832\n",
            "7.542395639153695\n",
            "7.535621495920779\n",
            "7.530077264173906\n",
            "7.525543995864648\n",
            "7.521806497124233\n",
            "7.518663568762405\n",
            "7.515933908509604\n",
            "7.513458795409832\n",
            "7.511104242448723\n",
            "7.508760108725824\n",
            "7.506338323477199\n",
            "7.503772470111482\n",
            "7.501014489112769\n",
            "7.498033088630104\n",
            "7.494812205559488\n",
            "7.4913478520999295\n",
            "7.487646831433665\n",
            "7.483723840159051\n",
            "7.479599215668445\n",
            "7.475297712672273\n",
            "7.470845217260602\n",
            "7.466268232269704\n",
            "7.461592773648494\n",
            "7.456842916676493\n",
            "7.452040652331298\n",
            "7.447205949400935\n",
            "7.442356022345307\n",
            "7.437505872189482\n",
            "7.43266856166964\n",
            "7.427855375378113\n",
            "7.423075410129229\n",
            "7.418336681191071\n",
            "7.413645990022946\n",
            "7.409008947512582\n",
            "7.404430270543741\n",
            "7.399913910294863\n",
            "7.395463432020691\n",
            "7.391081559865281\n",
            "7.386770668710523\n",
            "7.382532841108322\n",
            "7.378369912981167\n",
            "7.374283137734247\n",
            "7.3702738546445055\n",
            "7.366343129468584\n",
            "7.362491661200917\n",
            "7.358720278103384\n",
            "7.3550293518968815\n",
            "7.351419395085774\n",
            "7.347890487631833\n",
            "7.344442853031769\n",
            "7.341076407211817\n",
            "7.337790986674882\n",
            "7.33458634661598\n",
            "7.331461949333157\n",
            "7.328417284222519\n",
            "7.325451755665712\n",
            "7.322564379347671\n",
            "7.319754391502918\n",
            "7.317020641110507\n",
            "7.314361895023946\n",
            "7.3117768358573505\n",
            "7.309264061098363\n",
            "7.306821990769277\n"
          ],
          "name": "stdout"
        }
      ]
    },
    {
      "metadata": {
        "id": "zahmPewOTRFD",
        "colab_type": "code",
        "outputId": "d5783d64-fea7-430d-859c-406c0727a9fd",
        "colab": {
          "base_uri": "https://localhost:8080/",
          "height": 197
        }
      },
      "cell_type": "code",
      "source": [
        "#y = np.where(a<0.5,0,1)\n",
        "#print(\"train accuracy: {} %\".format(100 - np.mean(np.abs(y - train_labels)) * 100))\n",
        "z_test = np.dot(test_images,w) + b\n",
        "a_test = 1/(1+np.exp(-z_test))\n",
        "Y_pred = np.where(a_test < 0.5,0,1)\n",
        "print(\"test accuracy: {} %\".format(100 - np.mean(np.abs(Y_pred - test_labels)) * 100))"
      ],
      "execution_count": 78,
      "outputs": [
        {
          "output_type": "error",
          "ename": "ValueError",
          "evalue": "ignored",
          "traceback": [
            "\u001b[0;31m---------------------------------------------------------------------------\u001b[0m",
            "\u001b[0;31mValueError\u001b[0m                                Traceback (most recent call last)",
            "\u001b[0;32m<ipython-input-78-571840047cf8>\u001b[0m in \u001b[0;36m<module>\u001b[0;34m()\u001b[0m\n\u001b[1;32m      2\u001b[0m \u001b[0ma_test\u001b[0m \u001b[0;34m=\u001b[0m \u001b[0;36m1\u001b[0m\u001b[0;34m/\u001b[0m\u001b[0;34m(\u001b[0m\u001b[0;36m1\u001b[0m\u001b[0;34m+\u001b[0m\u001b[0mnp\u001b[0m\u001b[0;34m.\u001b[0m\u001b[0mexp\u001b[0m\u001b[0;34m(\u001b[0m\u001b[0;34m-\u001b[0m\u001b[0mz_test\u001b[0m\u001b[0;34m)\u001b[0m\u001b[0;34m)\u001b[0m\u001b[0;34m\u001b[0m\u001b[0;34m\u001b[0m\u001b[0m\n\u001b[1;32m      3\u001b[0m \u001b[0mY_pred\u001b[0m \u001b[0;34m=\u001b[0m \u001b[0mnp\u001b[0m\u001b[0;34m.\u001b[0m\u001b[0mwhere\u001b[0m\u001b[0;34m(\u001b[0m\u001b[0ma_test\u001b[0m \u001b[0;34m<\u001b[0m \u001b[0;36m0.5\u001b[0m\u001b[0;34m,\u001b[0m\u001b[0;36m0\u001b[0m\u001b[0;34m,\u001b[0m\u001b[0;36m1\u001b[0m\u001b[0;34m)\u001b[0m\u001b[0;34m\u001b[0m\u001b[0;34m\u001b[0m\u001b[0m\n\u001b[0;32m----> 4\u001b[0;31m \u001b[0mprint\u001b[0m\u001b[0;34m(\u001b[0m\u001b[0;34m\"test accuracy: {} %\"\u001b[0m\u001b[0;34m.\u001b[0m\u001b[0mformat\u001b[0m\u001b[0;34m(\u001b[0m\u001b[0;36m100\u001b[0m \u001b[0;34m-\u001b[0m \u001b[0mnp\u001b[0m\u001b[0;34m.\u001b[0m\u001b[0mmean\u001b[0m\u001b[0;34m(\u001b[0m\u001b[0mnp\u001b[0m\u001b[0;34m.\u001b[0m\u001b[0mabs\u001b[0m\u001b[0;34m(\u001b[0m\u001b[0mY_pred\u001b[0m \u001b[0;34m-\u001b[0m \u001b[0mtest_labels\u001b[0m\u001b[0;34m)\u001b[0m\u001b[0;34m)\u001b[0m \u001b[0;34m*\u001b[0m \u001b[0;36m100\u001b[0m\u001b[0;34m)\u001b[0m\u001b[0;34m)\u001b[0m\u001b[0;34m\u001b[0m\u001b[0;34m\u001b[0m\u001b[0m\n\u001b[0m",
            "\u001b[0;31mValueError\u001b[0m: operands could not be broadcast together with shapes (10000,10) (10000,) "
          ]
        }
      ]
    },
    {
      "metadata": {
        "id": "P2kF_mXN3JpH",
        "colab_type": "text"
      },
      "cell_type": "markdown",
      "source": [
        ""
      ]
    },
    {
      "metadata": {
        "id": "FrcY6fEG3KZ0",
        "colab_type": "code",
        "colab": {
          "base_uri": "https://localhost:8080/",
          "height": 34
        },
        "outputId": "3477d7c7-b3f1-479e-8f1b-3329f2646834"
      },
      "cell_type": "code",
      "source": [
        "dw.shape"
      ],
      "execution_count": 30,
      "outputs": [
        {
          "output_type": "execute_result",
          "data": {
            "text/plain": [
              "(10, 784)"
            ]
          },
          "metadata": {
            "tags": []
          },
          "execution_count": 30
        }
      ]
    },
    {
      "metadata": {
        "id": "TyV-gLPp3L22",
        "colab_type": "code",
        "colab": {
          "base_uri": "https://localhost:8080/",
          "height": 34
        },
        "outputId": "d5ef9ae3-c449-4661-f8ac-21190b0542e9"
      },
      "cell_type": "code",
      "source": [
        "X_train.shape"
      ],
      "execution_count": 12,
      "outputs": [
        {
          "output_type": "execute_result",
          "data": {
            "text/plain": [
              "(10, 784)"
            ]
          },
          "metadata": {
            "tags": []
          },
          "execution_count": 12
        }
      ]
    },
    {
      "metadata": {
        "id": "XqMKvmbx4AzO",
        "colab_type": "code",
        "colab": {
          "base_uri": "https://localhost:8080/",
          "height": 34
        },
        "outputId": "2148d740-a315-4b8c-8a00-997291b9d5e2"
      },
      "cell_type": "code",
      "source": [
        "a.shape"
      ],
      "execution_count": 32,
      "outputs": [
        {
          "output_type": "execute_result",
          "data": {
            "text/plain": [
              "(10, 1)"
            ]
          },
          "metadata": {
            "tags": []
          },
          "execution_count": 32
        }
      ]
    },
    {
      "metadata": {
        "id": "S4XSqJOU4cgk",
        "colab_type": "code",
        "colab": {
          "base_uri": "https://localhost:8080/",
          "height": 34
        },
        "outputId": "099d28a3-e970-4cac-d574-66ad97546244"
      },
      "cell_type": "code",
      "source": [
        "y_train"
      ],
      "execution_count": 35,
      "outputs": [
        {
          "output_type": "execute_result",
          "data": {
            "text/plain": [
              "array([1, 0, 0, 0, 0, 0, 0, 0, 0, 0])"
            ]
          },
          "metadata": {
            "tags": []
          },
          "execution_count": 35
        }
      ]
    },
    {
      "metadata": {
        "id": "gXgbFNHE5OFp",
        "colab_type": "code",
        "colab": {}
      },
      "cell_type": "code",
      "source": [
        ""
      ],
      "execution_count": 0,
      "outputs": []
    }
  ]
}