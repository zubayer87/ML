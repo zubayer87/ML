{
  "nbformat": 4,
  "nbformat_minor": 0,
  "metadata": {
    "colab": {
      "name": "Problem2.ipynb",
      "version": "0.3.2",
      "provenance": [],
      "collapsed_sections": [
        "0P976VIfpER8",
        "pZ3GYasRpMhz",
        "XQcZy2KJpO4w",
        "P2kF_mXN3JpH",
        "ub832AfRpVjh",
        "0fZdSeiupXrg",
        "u7ct183FpZbw",
        "MZbYYp7wpcPU"
      ],
      "include_colab_link": true
    },
    "kernelspec": {
      "name": "python3",
      "display_name": "Python 3"
    },
    "accelerator": "GPU"
  },
  "cells": [
    {
      "cell_type": "markdown",
      "metadata": {
        "id": "view-in-github",
        "colab_type": "text"
      },
      "source": [
        "<a href=\"https://colab.research.google.com/github/zubayer87/ML/blob/master/Problem2.ipynb\" target=\"_parent\"><img src=\"https://colab.research.google.com/assets/colab-badge.svg\" alt=\"Open In Colab\"/></a>"
      ]
    },
    {
      "metadata": {
        "id": "2i2928svosnA",
        "colab_type": "text"
      },
      "cell_type": "markdown",
      "source": [
        "## **Detect 0 from all digits**"
      ]
    },
    {
      "metadata": {
        "id": "PXQ1fweVWVAF",
        "colab_type": "code",
        "colab": {
          "base_uri": "https://localhost:8080/",
          "height": 53
        },
        "outputId": "e1276c7f-23a6-42bd-bed2-81af6b287b39"
      },
      "cell_type": "code",
      "source": [
        "from keras.datasets import mnist\n",
        "import numpy as np\n",
        "from random import shuffle\n",
        "\n",
        "(train_images, train_labels), (test_images, test_labels) = mnist.load_data()\n",
        "train_images = train_images.reshape(60000, 784)\n",
        "test_images = test_images.reshape(10000, 784)\n",
        "train_images = train_images.astype('float32') / 255\n",
        "test_images = test_images.astype('float32') / 255\n",
        "\n",
        "#one hot encoding\n",
        "#for 0\n",
        "train_labels = np.where(train_labels == 0,1,0)\n",
        "test_labels = np.where(test_labels == 0,1,0)\n",
        "train_labels = train_labels.reshape(60000,1)\n",
        "test_labels = test_labels.reshape(10000,1)\n",
        "\n",
        "\n",
        "w = np.zeros((train_images.shape[1],1))\n",
        "b = 0\n",
        "\n",
        "learning_rate = 0.001\n",
        "\n",
        "ind_list = [i for i in range(60000)]\n",
        "shuffle(ind_list)\n",
        "train_images  = train_images[ind_list, :]\n",
        "train_labels = train_labels[ind_list,]\n",
        "\n",
        "for i in range(10):  \n",
        "  minibatch_size = 10\n",
        "  for i in range(0, train_images.shape[0], minibatch_size):\n",
        "    \n",
        "    X_train = train_images[i:i+minibatch_size]\n",
        "    y_train = train_labels[i:i+minibatch_size]\n",
        "    \n",
        "    z = np.dot(X_train, w) + b\n",
        "    a = 1/(1+np.exp(-z))\n",
        "    \n",
        "    loss =  -1/minibatch_size*np.sum((y_train*np.log(a))+((1-y_train)*np.log(1-a)))                 \n",
        "    dw = 1/minibatch_size*np.dot(X_train.T, (a-y_train))\n",
        "    db =  1/minibatch_size*np.sum(a-y_train)\n",
        "    \n",
        "    w = w - learning_rate*dw\n",
        "    b = b - learning_rate*db\n",
        "  \n",
        "  #print(loss)\n",
        "  \n",
        "z_train = np.dot(train_images,w)+b\n",
        "a_train = 1/(1+np.exp(-z_train))\n",
        "y = np.where(a_train<0.5,0,1)\n",
        "print(\"train accuracy: {} %\".format(100 - np.mean(np.abs(y - train_labels)) * 100))\n",
        "z_test = np.dot(test_images,w) + b\n",
        "a_test = 1/(1+np.exp(-z_test))\n",
        "Y_pred = np.where(a_test < 0.5,0,1)\n",
        "print(\"test accuracy: {} %\".format(100 - np.mean(np.abs(Y_pred - test_labels)) * 100))"
      ],
      "execution_count": 37,
      "outputs": [
        {
          "output_type": "stream",
          "text": [
            "train accuracy: 98.76166666666667 %\n",
            "test accuracy: 99.02 %\n"
          ],
          "name": "stdout"
        }
      ]
    },
    {
      "metadata": {
        "id": "Oco1WRWQqBBl",
        "colab_type": "text"
      },
      "cell_type": "markdown",
      "source": [
        "## **Detect 1 from all digits**"
      ]
    },
    {
      "metadata": {
        "id": "0u9TfnAVpzPM",
        "colab_type": "code",
        "colab": {}
      },
      "cell_type": "code",
      "source": [
        "from keras.datasets import mnist\n",
        "import numpy as np\n",
        "from random import shuffle\n",
        "\n",
        "(train_images, train_labels), (test_images, test_labels) = mnist.load_data()\n",
        "train_images = train_images.reshape(60000, 784)\n",
        "test_images = test_images.reshape(10000, 784)\n",
        "train_images = train_images.astype('float32') / 255\n",
        "test_images = test_images.astype('float32') / 255\n",
        "\n",
        "#one hot encoding\n",
        "#for 1\n",
        "train_labels = np.where(train_labels == 1,1,0)\n",
        "test_labels = np.where(test_labels == 1,1,0)\n",
        "train_labels = train_labels.reshape(60000,1)\n",
        "test_labels = test_labels.reshape(10000,1)\n",
        "\n",
        "\n",
        "w = np.zeros((train_images.shape[1],1))\n",
        "b = 0\n",
        "\n",
        "learning_rate = 0.001\n",
        "\n",
        "ind_list = [i for i in range(60000)]\n",
        "shuffle(ind_list)\n",
        "train_images  = train_images[ind_list, :]\n",
        "train_labels = train_labels[ind_list,]\n",
        "\n",
        "for i in range(10):  \n",
        "  minibatch_size = 10\n",
        "  for i in range(0, train_images.shape[0], minibatch_size):\n",
        "    \n",
        "    X_train = train_images[i:i+minibatch_size]\n",
        "    y_train = train_labels[i:i+minibatch_size]\n",
        "    \n",
        "    z = np.dot(X_train, w) + b\n",
        "    a = 1/(1+np.exp(-z))\n",
        "    \n",
        "    loss =  -1/minibatch_size*np.sum((y_train*np.log(a))+((1-y_train)*np.log(1-a)))                 \n",
        "    dw = 1/minibatch_size*np.dot(X_train.T, (a-y_train))\n",
        "    db =  1/minibatch_size*np.sum(a-y_train)\n",
        "    \n",
        "    w = w - learning_rate*dw\n",
        "    b = b - learning_rate*db\n",
        "  \n",
        "  #print(loss)\n",
        "  \n",
        "z_train = np.dot(train_images,w)+b\n",
        "a_train = 1/(1+np.exp(-z_train))\n",
        "y = np.where(a_train<0.5,0,1)\n",
        "print(\"train accuracy: {} %\".format(100 - np.mean(np.abs(y - train_labels)) * 100))\n",
        "z_test = np.dot(test_images,w) + b\n",
        "a_test = 1/(1+np.exp(-z_test))\n",
        "Y_pred = np.where(a_test < 0.5,0,1)\n",
        "print(\"test accuracy: {} %\".format(100 - np.mean(np.abs(Y_pred - test_labels)) * 100))"
      ],
      "execution_count": 0,
      "outputs": []
    },
    {
      "metadata": {
        "id": "0P976VIfpER8",
        "colab_type": "text"
      },
      "cell_type": "markdown",
      "source": [
        "## **Detect 2 from all digits**"
      ]
    },
    {
      "metadata": {
        "id": "7Tnq5RaRT6ER",
        "colab_type": "code",
        "colab": {
          "base_uri": "https://localhost:8080/",
          "height": 53
        },
        "outputId": "e1169c76-7ab4-4da2-d6d7-a4bf70f36b97"
      },
      "cell_type": "code",
      "source": [
        "from keras.datasets import mnist\n",
        "import numpy as np\n",
        "from random import shuffle\n",
        "\n",
        "(train_images, train_labels), (test_images, test_labels) = mnist.load_data()\n",
        "train_images = train_images.reshape(60000, 784)\n",
        "test_images = test_images.reshape(10000, 784)\n",
        "train_images = train_images.astype('float32') / 255\n",
        "test_images = test_images.astype('float32') / 255\n",
        "\n",
        "#one hot encoding\n",
        "#for 2\n",
        "train_labels = np.where(train_labels == 2,1,0)\n",
        "test_labels = np.where(test_labels == 2,1,0)\n",
        "train_labels = train_labels.reshape(60000,1)\n",
        "test_labels = test_labels.reshape(10000,1)\n",
        "\n",
        "\n",
        "w = np.zeros((train_images.shape[1],1))\n",
        "b = 0\n",
        "\n",
        "learning_rate = 0.001\n",
        "\n",
        "ind_list = [i for i in range(60000)]\n",
        "shuffle(ind_list)\n",
        "train_images  = train_images[ind_list, :]\n",
        "train_labels = train_labels[ind_list,]\n",
        "\n",
        "for i in range(10):  \n",
        "  minibatch_size = 10\n",
        "  for i in range(0, train_images.shape[0], minibatch_size):\n",
        "    \n",
        "    X_train = train_images[i:i+minibatch_size]\n",
        "    y_train = train_labels[i:i+minibatch_size]\n",
        "    \n",
        "    z = np.dot(X_train, w) + b\n",
        "    a = 1/(1+np.exp(-z))\n",
        "    \n",
        "    loss =  -1/minibatch_size*np.sum((y_train*np.log(a))+((1-y_train)*np.log(1-a)))                 \n",
        "    dw = 1/minibatch_size*np.dot(X_train.T, (a-y_train))\n",
        "    db =  1/minibatch_size*np.sum(a-y_train)\n",
        "    \n",
        "    w = w - learning_rate*dw\n",
        "    b = b - learning_rate*db\n",
        "  \n",
        "  #print(loss)\n",
        "  \n",
        "z_train = np.dot(train_images,w)+b\n",
        "a_train = 1/(1+np.exp(-z_train))\n",
        "y = np.where(a_train<0.5,0,1)\n",
        "print(\"train accuracy: {} %\".format(100 - np.mean(np.abs(y - train_labels)) * 100))\n",
        "z_test = np.dot(test_images,w) + b\n",
        "a_test = 1/(1+np.exp(-z_test))\n",
        "Y_pred = np.where(a_test < 0.5,0,1)\n",
        "print(\"test accuracy: {} %\".format(100 - np.mean(np.abs(Y_pred - test_labels)) * 100))"
      ],
      "execution_count": 39,
      "outputs": [
        {
          "output_type": "stream",
          "text": [
            "train accuracy: 97.23 %\n",
            "test accuracy: 97.43 %\n"
          ],
          "name": "stdout"
        }
      ]
    },
    {
      "metadata": {
        "id": "pZ3GYasRpMhz",
        "colab_type": "text"
      },
      "cell_type": "markdown",
      "source": [
        "## **Detect 3 from all digits**"
      ]
    },
    {
      "metadata": {
        "id": "aDM4F4sBn2Db",
        "colab_type": "code",
        "outputId": "2f32b925-95a2-4c4a-9b55-8a1126b6999d",
        "colab": {
          "base_uri": "https://localhost:8080/",
          "height": 53
        }
      },
      "cell_type": "code",
      "source": [
        "from keras.datasets import mnist\n",
        "import numpy as np\n",
        "from random import shuffle\n",
        "\n",
        "(train_images, train_labels), (test_images, test_labels) = mnist.load_data()\n",
        "train_images = train_images.reshape(60000, 784)\n",
        "test_images = test_images.reshape(10000, 784)\n",
        "train_images = train_images.astype('float32') / 255\n",
        "test_images = test_images.astype('float32') / 255\n",
        "\n",
        "#one hot encoding\n",
        "#for 3\n",
        "train_labels = np.where(train_labels == 3,1,0)\n",
        "test_labels = np.where(test_labels == 3,1,0)\n",
        "train_labels = train_labels.reshape(60000,1)\n",
        "test_labels = test_labels.reshape(10000,1)\n",
        "\n",
        "\n",
        "w = np.zeros((train_images.shape[1],1))\n",
        "b = 0\n",
        "\n",
        "learning_rate = 0.001\n",
        "\n",
        "ind_list = [i for i in range(60000)]\n",
        "shuffle(ind_list)\n",
        "train_images  = train_images[ind_list, :]\n",
        "train_labels = train_labels[ind_list,]\n",
        "\n",
        "for i in range(10):  \n",
        "  minibatch_size = 10\n",
        "  for i in range(0, train_images.shape[0], minibatch_size):\n",
        "    \n",
        "    X_train = train_images[i:i+minibatch_size]\n",
        "    y_train = train_labels[i:i+minibatch_size]\n",
        "    \n",
        "    z = np.dot(X_train, w) + b\n",
        "    a = 1/(1+np.exp(-z))\n",
        "    \n",
        "    loss =  -1/minibatch_size*np.sum((y_train*np.log(a))+((1-y_train)*np.log(1-a)))                 \n",
        "    dw = 1/minibatch_size*np.dot(X_train.T, (a-y_train))\n",
        "    db =  1/minibatch_size*np.sum(a-y_train)\n",
        "    \n",
        "    w = w - learning_rate*dw\n",
        "    b = b - learning_rate*db\n",
        "  \n",
        "  #print(loss)\n",
        "  \n",
        "z_train = np.dot(train_images,w)+b\n",
        "a_train = 1/(1+np.exp(-z_train))\n",
        "y = np.where(a_train<0.5,0,1)\n",
        "print(\"train accuracy: {} %\".format(100 - np.mean(np.abs(y - train_labels)) * 100))\n",
        "z_test = np.dot(test_images,w) + b\n",
        "a_test = 1/(1+np.exp(-z_test))\n",
        "Y_pred = np.where(a_test < 0.5,0,1)\n",
        "print(\"test accuracy: {} %\".format(100 - np.mean(np.abs(Y_pred - test_labels)) * 100))"
      ],
      "execution_count": 40,
      "outputs": [
        {
          "output_type": "stream",
          "text": [
            "train accuracy: 96.74166666666666 %\n",
            "test accuracy: 97.17 %\n"
          ],
          "name": "stdout"
        }
      ]
    },
    {
      "metadata": {
        "id": "XQcZy2KJpO4w",
        "colab_type": "text"
      },
      "cell_type": "markdown",
      "source": [
        "## **Detect 4 from all digits**"
      ]
    },
    {
      "metadata": {
        "id": "zahmPewOTRFD",
        "colab_type": "code",
        "outputId": "a5b4783d-1b77-45b1-e770-64f2e3b4b028",
        "colab": {
          "base_uri": "https://localhost:8080/",
          "height": 53
        }
      },
      "cell_type": "code",
      "source": [
        "from keras.datasets import mnist\n",
        "import numpy as np\n",
        "from random import shuffle\n",
        "\n",
        "(train_images, train_labels), (test_images, test_labels) = mnist.load_data()\n",
        "train_images = train_images.reshape(60000, 784)\n",
        "test_images = test_images.reshape(10000, 784)\n",
        "train_images = train_images.astype('float32') / 255\n",
        "test_images = test_images.astype('float32') / 255\n",
        "\n",
        "#one hot encoding\n",
        "#for 4\n",
        "train_labels = np.where(train_labels == 4,1,0)\n",
        "test_labels = np.where(test_labels == 4,1,0)\n",
        "train_labels = train_labels.reshape(60000,1)\n",
        "test_labels = test_labels.reshape(10000,1)\n",
        "\n",
        "\n",
        "w = np.zeros((train_images.shape[1],1))\n",
        "b = 0\n",
        "\n",
        "learning_rate = 0.001\n",
        "\n",
        "ind_list = [i for i in range(60000)]\n",
        "shuffle(ind_list)\n",
        "train_images  = train_images[ind_list, :]\n",
        "train_labels = train_labels[ind_list,]\n",
        "\n",
        "for i in range(10):  \n",
        "  minibatch_size = 10\n",
        "  for i in range(0, train_images.shape[0], minibatch_size):\n",
        "    \n",
        "    X_train = train_images[i:i+minibatch_size]\n",
        "    y_train = train_labels[i:i+minibatch_size]\n",
        "    \n",
        "    z = np.dot(X_train, w) + b\n",
        "    a = 1/(1+np.exp(-z))\n",
        "    \n",
        "    loss =  -1/minibatch_size*np.sum((y_train*np.log(a))+((1-y_train)*np.log(1-a)))                 \n",
        "    dw = 1/minibatch_size*np.dot(X_train.T, (a-y_train))\n",
        "    db =  1/minibatch_size*np.sum(a-y_train)\n",
        "    \n",
        "    w = w - learning_rate*dw\n",
        "    b = b - learning_rate*db\n",
        "  \n",
        "  #print(loss)\n",
        "  \n",
        "z_train = np.dot(train_images,w)+b\n",
        "a_train = 1/(1+np.exp(-z_train))\n",
        "y = np.where(a_train<0.5,0,1)\n",
        "print(\"train accuracy: {} %\".format(100 - np.mean(np.abs(y - train_labels)) * 100))\n",
        "z_test = np.dot(test_images,w) + b\n",
        "a_test = 1/(1+np.exp(-z_test))\n",
        "Y_pred = np.where(a_test < 0.5,0,1)\n",
        "print(\"test accuracy: {} %\".format(100 - np.mean(np.abs(Y_pred - test_labels)) * 100))"
      ],
      "execution_count": 41,
      "outputs": [
        {
          "output_type": "stream",
          "text": [
            "train accuracy: 97.72 %\n",
            "test accuracy: 97.6 %\n"
          ],
          "name": "stdout"
        }
      ]
    },
    {
      "metadata": {
        "id": "P2kF_mXN3JpH",
        "colab_type": "text"
      },
      "cell_type": "markdown",
      "source": [
        "## **Detect 5 from all digits**"
      ]
    },
    {
      "metadata": {
        "id": "FrcY6fEG3KZ0",
        "colab_type": "code",
        "outputId": "c9d49bed-ba1f-4581-b2a4-9de921d0b49d",
        "colab": {
          "base_uri": "https://localhost:8080/",
          "height": 53
        }
      },
      "cell_type": "code",
      "source": [
        "from keras.datasets import mnist\n",
        "import numpy as np\n",
        "from random import shuffle\n",
        "\n",
        "(train_images, train_labels), (test_images, test_labels) = mnist.load_data()\n",
        "train_images = train_images.reshape(60000, 784)\n",
        "test_images = test_images.reshape(10000, 784)\n",
        "train_images = train_images.astype('float32') / 255\n",
        "test_images = test_images.astype('float32') / 255\n",
        "\n",
        "#one hot encoding\n",
        "#for 5\n",
        "train_labels = np.where(train_labels == 5,1,0)\n",
        "test_labels = np.where(test_labels == 5,1,0)\n",
        "train_labels = train_labels.reshape(60000,1)\n",
        "test_labels = test_labels.reshape(10000,1)\n",
        "\n",
        "\n",
        "w = np.zeros((train_images.shape[1],1))\n",
        "b = 0\n",
        "\n",
        "learning_rate = 0.001\n",
        "\n",
        "ind_list = [i for i in range(60000)]\n",
        "shuffle(ind_list)\n",
        "train_images  = train_images[ind_list, :]\n",
        "train_labels = train_labels[ind_list,]\n",
        "\n",
        "for i in range(10):  \n",
        "  minibatch_size = 10\n",
        "  for i in range(0, train_images.shape[0], minibatch_size):\n",
        "    \n",
        "    X_train = train_images[i:i+minibatch_size]\n",
        "    y_train = train_labels[i:i+minibatch_size]\n",
        "    \n",
        "    z = np.dot(X_train, w) + b\n",
        "    a = 1/(1+np.exp(-z))\n",
        "    \n",
        "    loss =  -1/minibatch_size*np.sum((y_train*np.log(a))+((1-y_train)*np.log(1-a)))                 \n",
        "    dw = 1/minibatch_size*np.dot(X_train.T, (a-y_train))\n",
        "    db =  1/minibatch_size*np.sum(a-y_train)\n",
        "    \n",
        "    w = w - learning_rate*dw\n",
        "    b = b - learning_rate*db\n",
        "  \n",
        "  #print(loss)\n",
        "  \n",
        "z_train = np.dot(train_images,w)+b\n",
        "a_train = 1/(1+np.exp(-z_train))\n",
        "y = np.where(a_train<0.5,0,1)\n",
        "print(\"train accuracy: {} %\".format(100 - np.mean(np.abs(y - train_labels)) * 100))\n",
        "z_test = np.dot(test_images,w) + b\n",
        "a_test = 1/(1+np.exp(-z_test))\n",
        "Y_pred = np.where(a_test < 0.5,0,1)\n",
        "print(\"test accuracy: {} %\".format(100 - np.mean(np.abs(Y_pred - test_labels)) * 100))"
      ],
      "execution_count": 42,
      "outputs": [
        {
          "output_type": "stream",
          "text": [
            "train accuracy: 96.05833333333334 %\n",
            "test accuracy: 96.29 %\n"
          ],
          "name": "stdout"
        }
      ]
    },
    {
      "metadata": {
        "id": "ub832AfRpVjh",
        "colab_type": "text"
      },
      "cell_type": "markdown",
      "source": [
        "## **Detect 6 from all digits**"
      ]
    },
    {
      "metadata": {
        "id": "TyV-gLPp3L22",
        "colab_type": "code",
        "outputId": "fc140387-90b9-4750-aa4d-fc45ff19eb0b",
        "colab": {
          "base_uri": "https://localhost:8080/",
          "height": 53
        }
      },
      "cell_type": "code",
      "source": [
        "from keras.datasets import mnist\n",
        "import numpy as np\n",
        "from random import shuffle\n",
        "\n",
        "(train_images, train_labels), (test_images, test_labels) = mnist.load_data()\n",
        "train_images = train_images.reshape(60000, 784)\n",
        "test_images = test_images.reshape(10000, 784)\n",
        "train_images = train_images.astype('float32') / 255\n",
        "test_images = test_images.astype('float32') / 255\n",
        "\n",
        "#one hot encoding\n",
        "#for 6\n",
        "train_labels = np.where(train_labels == 6,1,0)\n",
        "test_labels = np.where(test_labels == 6,1,0)\n",
        "train_labels = train_labels.reshape(60000,1)\n",
        "test_labels = test_labels.reshape(10000,1)\n",
        "\n",
        "\n",
        "w = np.zeros((train_images.shape[1],1))\n",
        "b = 0\n",
        "\n",
        "learning_rate = 0.001\n",
        "\n",
        "ind_list = [i for i in range(60000)]\n",
        "shuffle(ind_list)\n",
        "train_images  = train_images[ind_list, :]\n",
        "train_labels = train_labels[ind_list,]\n",
        "\n",
        "for i in range(10):  \n",
        "  minibatch_size = 10\n",
        "  for i in range(0, train_images.shape[0], minibatch_size):\n",
        "    \n",
        "    X_train = train_images[i:i+minibatch_size]\n",
        "    y_train = train_labels[i:i+minibatch_size]\n",
        "    \n",
        "    z = np.dot(X_train, w) + b\n",
        "    a = 1/(1+np.exp(-z))\n",
        "    \n",
        "    loss =  -1/minibatch_size*np.sum((y_train*np.log(a))+((1-y_train)*np.log(1-a)))                 \n",
        "    dw = 1/minibatch_size*np.dot(X_train.T, (a-y_train))\n",
        "    db =  1/minibatch_size*np.sum(a-y_train)\n",
        "    \n",
        "    w = w - learning_rate*dw\n",
        "    b = b - learning_rate*db\n",
        "  \n",
        "  #print(loss)\n",
        "  \n",
        "z_train = np.dot(train_images,w)+b\n",
        "a_train = 1/(1+np.exp(-z_train))\n",
        "y = np.where(a_train<0.5,0,1)\n",
        "print(\"train accuracy: {} %\".format(100 - np.mean(np.abs(y - train_labels)) * 100))\n",
        "z_test = np.dot(test_images,w) + b\n",
        "a_test = 1/(1+np.exp(-z_test))\n",
        "Y_pred = np.where(a_test < 0.5,0,1)\n",
        "print(\"test accuracy: {} %\".format(100 - np.mean(np.abs(Y_pred - test_labels)) * 100))"
      ],
      "execution_count": 43,
      "outputs": [
        {
          "output_type": "stream",
          "text": [
            "train accuracy: 98.295 %\n",
            "test accuracy: 98.15 %\n"
          ],
          "name": "stdout"
        }
      ]
    },
    {
      "metadata": {
        "id": "0fZdSeiupXrg",
        "colab_type": "text"
      },
      "cell_type": "markdown",
      "source": [
        "## **Detect 7 from all digits**"
      ]
    },
    {
      "metadata": {
        "id": "XqMKvmbx4AzO",
        "colab_type": "code",
        "outputId": "ff75f9a6-8172-4d4d-cddd-f5b4c82284bf",
        "colab": {
          "base_uri": "https://localhost:8080/",
          "height": 53
        }
      },
      "cell_type": "code",
      "source": [
        "from keras.datasets import mnist\n",
        "import numpy as np\n",
        "from random import shuffle\n",
        "\n",
        "(train_images, train_labels), (test_images, test_labels) = mnist.load_data()\n",
        "train_images = train_images.reshape(60000, 784)\n",
        "test_images = test_images.reshape(10000, 784)\n",
        "train_images = train_images.astype('float32') / 255\n",
        "test_images = test_images.astype('float32') / 255\n",
        "\n",
        "#one hot encoding\n",
        "#for 7\n",
        "train_labels = np.where(train_labels == 7,1,0)\n",
        "test_labels = np.where(test_labels == 7,1,0)\n",
        "train_labels = train_labels.reshape(60000,1)\n",
        "test_labels = test_labels.reshape(10000,1)\n",
        "\n",
        "\n",
        "w = np.zeros((train_images.shape[1],1))\n",
        "b = 0\n",
        "\n",
        "learning_rate = 0.01\n",
        "\n",
        "ind_list = [i for i in range(60000)]\n",
        "shuffle(ind_list)\n",
        "train_images  = train_images[ind_list, :]\n",
        "train_labels = train_labels[ind_list,]\n",
        "\n",
        "for i in range(10):  \n",
        "  minibatch_size = 10\n",
        "  for i in range(0, train_images.shape[0], minibatch_size):\n",
        "    \n",
        "    X_train = train_images[i:i+minibatch_size]\n",
        "    y_train = train_labels[i:i+minibatch_size]\n",
        "    \n",
        "    z = np.dot(X_train, w) + b\n",
        "    a = 1/(1+np.exp(-z))\n",
        "    \n",
        "    loss =  -1/minibatch_size*np.sum((y_train*np.log(a))+((1-y_train)*np.log(1-a)))                 \n",
        "    dw = 1/minibatch_size*np.dot(X_train.T, (a-y_train))\n",
        "    db =  1/minibatch_size*np.sum(a-y_train)\n",
        "    \n",
        "    w = w - learning_rate*dw\n",
        "    b = b - learning_rate*db\n",
        "  \n",
        "  #print(loss)\n",
        "  \n",
        "z_train = np.dot(train_images,w)+b\n",
        "a_train = 1/(1+np.exp(-z_train))\n",
        "y = np.where(a_train<0.5,0,1)\n",
        "print(\"train accuracy: {} %\".format(100 - np.mean(np.abs(y - train_labels)) * 100))\n",
        "z_test = np.dot(test_images,w) + b\n",
        "a_test = 1/(1+np.exp(-z_test))\n",
        "Y_pred = np.where(a_test < 0.5,0,1)\n",
        "print(\"test accuracy: {} %\".format(100 - np.mean(np.abs(Y_pred - test_labels)) * 100))"
      ],
      "execution_count": 47,
      "outputs": [
        {
          "output_type": "stream",
          "text": [
            "train accuracy: 98.43666666666667 %\n",
            "test accuracy: 98.48 %\n"
          ],
          "name": "stdout"
        }
      ]
    },
    {
      "metadata": {
        "id": "u7ct183FpZbw",
        "colab_type": "text"
      },
      "cell_type": "markdown",
      "source": [
        "## **Detect 8 from all digits**"
      ]
    },
    {
      "metadata": {
        "id": "S4XSqJOU4cgk",
        "colab_type": "code",
        "outputId": "a470f896-3ee7-4068-e9c5-03c01876eeb9",
        "colab": {
          "base_uri": "https://localhost:8080/",
          "height": 53
        }
      },
      "cell_type": "code",
      "source": [
        "from keras.datasets import mnist\n",
        "import numpy as np\n",
        "from random import shuffle\n",
        "\n",
        "(train_images, train_labels), (test_images, test_labels) = mnist.load_data()\n",
        "train_images = train_images.reshape(60000, 784)\n",
        "test_images = test_images.reshape(10000, 784)\n",
        "train_images = train_images.astype('float32') / 255\n",
        "test_images = test_images.astype('float32') / 255\n",
        "\n",
        "#one hot encoding\n",
        "#for 8\n",
        "train_labels = np.where(train_labels == 8,1,0)\n",
        "test_labels = np.where(test_labels == 8,1,0)\n",
        "train_labels = train_labels.reshape(60000,1)\n",
        "test_labels = test_labels.reshape(10000,1)\n",
        "\n",
        "\n",
        "w = np.zeros((train_images.shape[1],1))\n",
        "b = 0\n",
        "\n",
        "learning_rate = 0.001\n",
        "\n",
        "ind_list = [i for i in range(60000)]\n",
        "shuffle(ind_list)\n",
        "train_images  = train_images[ind_list, :]\n",
        "train_labels = train_labels[ind_list,]\n",
        "\n",
        "for i in range(10):  \n",
        "  minibatch_size = 10\n",
        "  for i in range(0, train_images.shape[0], minibatch_size):\n",
        "    \n",
        "    X_train = train_images[i:i+minibatch_size]\n",
        "    y_train = train_labels[i:i+minibatch_size]\n",
        "    \n",
        "    z = np.dot(X_train, w) + b\n",
        "    a = 1/(1+np.exp(-z))\n",
        "    \n",
        "    loss =  -1/minibatch_size*np.sum((y_train*np.log(a))+((1-y_train)*np.log(1-a)))                 \n",
        "    dw = 1/minibatch_size*np.dot(X_train.T, (a-y_train))\n",
        "    db =  1/minibatch_size*np.sum(a-y_train)\n",
        "    \n",
        "    w = w - learning_rate*dw\n",
        "    b = b - learning_rate*db\n",
        "  \n",
        "  #print(loss)\n",
        "  \n",
        "z_train = np.dot(train_images,w)+b\n",
        "a_train = 1/(1+np.exp(-z_train))\n",
        "y = np.where(a_train<0.5,0,1)\n",
        "print(\"train accuracy: {} %\".format(100 - np.mean(np.abs(y - train_labels)) * 100))\n",
        "z_test = np.dot(test_images,w) + b\n",
        "a_test = 1/(1+np.exp(-z_test))\n",
        "Y_pred = np.where(a_test < 0.5,0,1)\n",
        "print(\"test accuracy: {} %\".format(100 - np.mean(np.abs(Y_pred - test_labels)) * 100))"
      ],
      "execution_count": 48,
      "outputs": [
        {
          "output_type": "stream",
          "text": [
            "train accuracy: 94.80333333333333 %\n",
            "test accuracy: 94.65 %\n"
          ],
          "name": "stdout"
        }
      ]
    },
    {
      "metadata": {
        "id": "MZbYYp7wpcPU",
        "colab_type": "text"
      },
      "cell_type": "markdown",
      "source": [
        "## **Detect 9 from all digits**"
      ]
    },
    {
      "metadata": {
        "id": "gXgbFNHE5OFp",
        "colab_type": "code",
        "colab": {
          "base_uri": "https://localhost:8080/",
          "height": 53
        },
        "outputId": "17961fe8-45dd-4702-ea30-4fd065c3d4f7"
      },
      "cell_type": "code",
      "source": [
        "from keras.datasets import mnist\n",
        "import numpy as np\n",
        "from random import shuffle\n",
        "\n",
        "(train_images, train_labels), (test_images, test_labels) = mnist.load_data()\n",
        "train_images = train_images.reshape(60000, 784)\n",
        "test_images = test_images.reshape(10000, 784)\n",
        "train_images = train_images.astype('float32') / 255\n",
        "test_images = test_images.astype('float32') / 255\n",
        "\n",
        "#one hot encoding\n",
        "#for 9\n",
        "train_labels = np.where(train_labels == 9,1,0)\n",
        "test_labels = np.where(test_labels == 9,1,0)\n",
        "train_labels = train_labels.reshape(60000,1)\n",
        "test_labels = test_labels.reshape(10000,1)\n",
        "\n",
        "\n",
        "w = np.zeros((train_images.shape[1],1))\n",
        "b = 0\n",
        "\n",
        "learning_rate = 0.001\n",
        "\n",
        "ind_list = [i for i in range(60000)]\n",
        "shuffle(ind_list)\n",
        "train_images  = train_images[ind_list, :]\n",
        "train_labels = train_labels[ind_list,]\n",
        "\n",
        "for i in range(10):  \n",
        "  minibatch_size = 10\n",
        "  for i in range(0, train_images.shape[0], minibatch_size):\n",
        "    \n",
        "    X_train = train_images[i:i+minibatch_size]\n",
        "    y_train = train_labels[i:i+minibatch_size]\n",
        "    \n",
        "    z = np.dot(X_train, w) + b\n",
        "    a = 1/(1+np.exp(-z))\n",
        "    \n",
        "    loss =  -1/minibatch_size*np.sum((y_train*np.log(a))+((1-y_train)*np.log(1-a)))                 \n",
        "    dw = 1/minibatch_size*np.dot(X_train.T, (a-y_train))\n",
        "    db =  1/minibatch_size*np.sum(a-y_train)\n",
        "    \n",
        "    w = w - learning_rate*dw\n",
        "    b = b - learning_rate*db\n",
        "  \n",
        "  #print(loss)\n",
        "  \n",
        "z_train = np.dot(train_images,w)+b\n",
        "a_train = 1/(1+np.exp(-z_train))\n",
        "y = np.where(a_train<0.5,0,1)\n",
        "print(\"train accuracy: {} %\".format(100 - np.mean(np.abs(y - train_labels)) * 100))\n",
        "z_test = np.dot(test_images,w) + b\n",
        "a_test = 1/(1+np.exp(-z_test))\n",
        "Y_pred = np.where(a_test < 0.5,0,1)\n",
        "print(\"test accuracy: {} %\".format(100 - np.mean(np.abs(Y_pred - test_labels)) * 100))"
      ],
      "execution_count": 49,
      "outputs": [
        {
          "output_type": "stream",
          "text": [
            "train accuracy: 95.50666666666666 %\n",
            "test accuracy: 95.81 %\n"
          ],
          "name": "stdout"
        }
      ]
    }
  ]
}