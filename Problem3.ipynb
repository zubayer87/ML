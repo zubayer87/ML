{
  "nbformat": 4,
  "nbformat_minor": 0,
  "metadata": {
    "colab": {
      "name": "Problem3.ipynb",
      "version": "0.3.2",
      "provenance": [],
      "collapsed_sections": [],
      "include_colab_link": true
    },
    "kernelspec": {
      "name": "python3",
      "display_name": "Python 3"
    },
    "accelerator": "GPU"
  },
  "cells": [
    {
      "cell_type": "markdown",
      "metadata": {
        "id": "view-in-github",
        "colab_type": "text"
      },
      "source": [
        "<a href=\"https://colab.research.google.com/github/zubayer87/ML/blob/master/Problem3.ipynb\" target=\"_parent\"><img src=\"https://colab.research.google.com/assets/colab-badge.svg\" alt=\"Open In Colab\"/></a>"
      ]
    },
    {
      "metadata": {
        "id": "gB1Q5LaT493e",
        "colab_type": "code",
        "colab": {
          "base_uri": "https://localhost:8080/",
          "height": 52
        },
        "outputId": "f31ccf01-43d8-44b9-f142-ee30ae3cebd2"
      },
      "cell_type": "code",
      "source": [
        "from keras.datasets import mnist\n",
        "import numpy as np\n",
        "from random import shuffle\n",
        "\n",
        "(train_images, y_train), (test_images, y_test) = mnist.load_data()\n",
        "\n",
        "X_train = train_images.reshape(train_images.shape[0], -1)/255\n",
        "X_test = test_images.reshape(test_images.shape[0], -1)/255\n",
        "\n",
        "learning_rate = 0.001\n",
        "batch_size = 40\n",
        "epochs = 20\n",
        "\n",
        "\n",
        "a = y_train\n",
        "Y_train = np.zeros((a.size, a.max()+1))\n",
        "Y_train[np.arange(a.size),a] = 1\n",
        "\n",
        "W = np.zeros((X_train.shape[1], 10))\n",
        "b = np.zeros((1,10))\n",
        "m = X_train.shape[0] # number of samples in training set\n",
        "\n",
        "for j in range (epochs):\n",
        "\n",
        "  shuffled_indices = np.random.permutation(m)\n",
        "  X_shuffled = X_train[shuffled_indices]\n",
        "  y_shuffled = Y_train[shuffled_indices]\n",
        "\n",
        "  for i in range(0, m, batch_size):\n",
        "\n",
        "    X = X_shuffled[i : i + batch_size]\n",
        "    Y = y_shuffled[i : i + batch_size]  \n",
        " \n",
        "    z = np.dot(X, W) + b\n",
        "    y_est = np.exp(z)/np.sum(np.exp(z), axis = 1, keepdims= True) \n",
        "\n",
        "\n",
        "    loss = - np.sum(Y*np.log(y_est))/Y.shape[0]\n",
        "\n",
        "     \n",
        "    dW = np.dot(X.T, (1/batch_size)*(y_est - Y))\n",
        "    db = np.sum((1/batch_size)*(y_est - Y))      \n",
        "\n",
        "    W = W - learning_rate*dW\n",
        "    b = b -learning_rate*db\n",
        "\n",
        "\n",
        "    \n",
        "z = np.dot(X_train, W) + b\n",
        "y_est = np.exp(z)/np.sum(np.exp(z), axis = 1, keepdims= True) \n",
        "Y_est = np.argmax(y_est, axis = 1)\n",
        "acc = np.sum(Y_est == y_train)/y_train.shape[0]*100\n",
        "\n",
        "print (\"Train Accuracy: %f\" %acc)\n",
        "    \n",
        "z = np.dot(X_test, W) + b\n",
        "y_est = np.exp(z)/np.sum(np.exp(z), axis = 1, keepdims= True) \n",
        "Y_est = np.argmax(y_est, axis = 1)\n",
        "acc = np.sum(Y_est == y_test)/y_test.shape[0]*100\n",
        "\n",
        "print (\"Test Accuracy: %f\" %acc)"
      ],
      "execution_count": 13,
      "outputs": [
        {
          "output_type": "stream",
          "text": [
            "Train Accuracy: 88.451667\n",
            "Test Accuracy: 89.210000\n"
          ],
          "name": "stdout"
        }
      ]
    },
    {
      "metadata": {
        "id": "yR5tdSOEHJqX",
        "colab_type": "code",
        "colab": {}
      },
      "cell_type": "code",
      "source": [
        ""
      ],
      "execution_count": 0,
      "outputs": []
    }
  ]
}