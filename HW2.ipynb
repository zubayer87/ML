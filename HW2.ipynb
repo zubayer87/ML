{
  "nbformat": 4,
  "nbformat_minor": 0,
  "metadata": {
    "colab": {
      "name": "HW2.ipynb",
      "version": "0.3.2",
      "provenance": [],
      "include_colab_link": true
    },
    "kernelspec": {
      "name": "python3",
      "display_name": "Python 3"
    },
    "accelerator": "GPU"
  },
  "cells": [
    {
      "cell_type": "markdown",
      "metadata": {
        "id": "view-in-github",
        "colab_type": "text"
      },
      "source": [
        "<a href=\"https://colab.research.google.com/github/zubayer87/ML/blob/master/HW2.ipynb\" target=\"_parent\"><img src=\"https://colab.research.google.com/assets/colab-badge.svg\" alt=\"Open In Colab\"/></a>"
      ]
    },
    {
      "metadata": {
        "id": "9rPnyYhpMDy7",
        "colab_type": "code",
        "outputId": "89f85f8a-7c02-43e3-a4e8-90cf78e377ed",
        "colab": {
          "base_uri": "https://localhost:8080/",
          "height": 35
        }
      },
      "cell_type": "code",
      "source": [
        "from keras.datasets import cifar10\n",
        "(train_images, train_labels), (test_images, test_labels) = cifar10.load_data()"
      ],
      "execution_count": 1,
      "outputs": [
        {
          "output_type": "stream",
          "text": [
            "Using TensorFlow backend.\n"
          ],
          "name": "stderr"
        }
      ]
    },
    {
      "metadata": {
        "id": "Iy4I4SMlMGs4",
        "colab_type": "code",
        "colab": {}
      },
      "cell_type": "code",
      "source": [
        "from sklearn.model_selection import train_test_split\n",
        "\n",
        "X_train, X_test, y_train, y_test = train_test_split(train_images, train_labels, test_size=0.2, random_state=1)\n",
        "X_train, X_val, y_train, y_val = train_test_split(X_train, y_train, test_size=0.2, random_state=1)"
      ],
      "execution_count": 0,
      "outputs": []
    },
    {
      "metadata": {
        "id": "C6V8lbuJUoEh",
        "colab_type": "code",
        "colab": {}
      },
      "cell_type": "code",
      "source": [
        "batch_size = 32\n",
        "nb_classes = 10\n",
        "nb_epoch = 5\n",
        "img_rows, img_col = 32, 32\n",
        "img_channels = 3"
      ],
      "execution_count": 0,
      "outputs": []
    },
    {
      "metadata": {
        "id": "y0HQUDALT7lF",
        "colab_type": "code",
        "colab": {}
      },
      "cell_type": "code",
      "source": [
        "from keras.utils import np_utils\n",
        "X_train = X_train.reshape(X_train.shape[0], 3, 32, 32)\n",
        "y_train = np_utils.to_categorical(y_train, nb_classes)\n",
        "\n",
        "X_val = X_val.reshape(X_val.shape[0], 3, 32, 32)\n",
        "y_val = np_utils.to_categorical(y_val, nb_classes)\n",
        "\n",
        "X_test = X_test.reshape(X_test.shape[0], 3, 32, 32)\n",
        "y_test = np_utils.to_categorical(y_test, nb_classes)\n"
      ],
      "execution_count": 0,
      "outputs": []
    },
    {
      "metadata": {
        "id": "wcR0-K0KNpWX",
        "colab_type": "code",
        "colab": {}
      },
      "cell_type": "code",
      "source": [
        "X_train = X_train/255\n",
        "X_val = X_val/255\n",
        "X_test = X_test/ 255"
      ],
      "execution_count": 0,
      "outputs": []
    },
    {
      "metadata": {
        "id": "6v5xi521SRyQ",
        "colab_type": "code",
        "colab": {}
      },
      "cell_type": "code",
      "source": [
        "from keras import Sequential\n",
        "from keras.layers import Conv2D, MaxPooling2D, Dense, Activation, Flatten, Dropout, BatchNormalization \n",
        "from keras import regularizers\n",
        "\n",
        "\n",
        "model = Sequential()\n",
        "model.add(Conv2D(input_shape =(img_channels, img_rows, img_col), filters=96, kernel_size=(3,3), data_format = 'channels_first'))\n",
        "model.add(Activation('relu'))\n",
        "model.add(Conv2D(filters=96, kernel_size=(3,3), strides=2))\n",
        "model.add(Activation('relu'))\n",
        "model.add(Dropout(0.2))\n",
        "model.add(Conv2D(filters=192, kernel_size=(3,3), strides=2))\n",
        "model.add(Activation('relu'))\n",
        "model.add(Conv2D(filters=192, kernel_size=(3,3), strides=2))\n",
        "model.add(Activation('relu'))\n",
        "model.add(Dropout(0.5))\n",
        "model.add(Flatten())\n",
        "model.add(BatchNormalization())\n",
        "model.add(Dense(256))\n",
        "model.add(Activation('relu'))\n",
        "model.add(Dense(nb_classes, activation=\"softmax\"))\n",
        "model.compile(loss='categorical_crossentropy', optimizer='adam', metrics=['accuracy'])"
      ],
      "execution_count": 0,
      "outputs": []
    },
    {
      "metadata": {
        "id": "zgdyWBS2coZp",
        "colab_type": "code",
        "colab": {}
      },
      "cell_type": "code",
      "source": [
        "model.compile(loss='categorical_crossentropy',\n",
        "              optimizer='adam',\n",
        "              metrics=['accuracy'])"
      ],
      "execution_count": 0,
      "outputs": []
    },
    {
      "metadata": {
        "id": "EqzFlYiHcq7o",
        "colab_type": "code",
        "colab": {
          "base_uri": "https://localhost:8080/",
          "height": 467
        },
        "outputId": "b7fdc468-f88f-4c8e-e01d-4eac3449b395"
      },
      "cell_type": "code",
      "source": [
        "history = model.fit(X_train, y_train, batch_size=batch_size, epochs=20,\n",
        "                    verbose=1, validation_data=(X_val, y_val))"
      ],
      "execution_count": 0,
      "outputs": [
        {
          "output_type": "stream",
          "text": [
            "Train on 32000 samples, validate on 8000 samples\n",
            "Epoch 1/20\n",
            "32000/32000 [==============================] - 28s 866us/step - loss: 1.8521 - acc: 0.3273 - val_loss: 1.6194 - val_acc: 0.4158\n",
            "Epoch 2/20\n",
            "32000/32000 [==============================] - 26s 798us/step - loss: 1.6677 - acc: 0.4000 - val_loss: 1.6285 - val_acc: 0.4218\n",
            "Epoch 3/20\n",
            "32000/32000 [==============================] - 26s 800us/step - loss: 1.5961 - acc: 0.4266 - val_loss: 1.5446 - val_acc: 0.4394\n",
            "Epoch 4/20\n",
            "32000/32000 [==============================] - 26s 797us/step - loss: 1.5412 - acc: 0.4460 - val_loss: 1.5710 - val_acc: 0.4355\n",
            "Epoch 5/20\n",
            "32000/32000 [==============================] - 25s 797us/step - loss: 1.5061 - acc: 0.4606 - val_loss: 1.4075 - val_acc: 0.5060\n",
            "Epoch 6/20\n",
            "32000/32000 [==============================] - 26s 799us/step - loss: 1.4619 - acc: 0.4779 - val_loss: 1.3908 - val_acc: 0.5091\n",
            "Epoch 7/20\n",
            "32000/32000 [==============================] - 26s 799us/step - loss: 1.4359 - acc: 0.4843 - val_loss: 1.3912 - val_acc: 0.4949\n",
            "Epoch 8/20\n",
            "32000/32000 [==============================] - 26s 798us/step - loss: 1.3981 - acc: 0.4991 - val_loss: 1.4293 - val_acc: 0.4919\n",
            "Epoch 9/20\n",
            "32000/32000 [==============================] - 26s 802us/step - loss: 1.3853 - acc: 0.5026 - val_loss: 1.3851 - val_acc: 0.5170\n",
            "Epoch 10/20\n",
            "32000/32000 [==============================] - 26s 798us/step - loss: 1.3622 - acc: 0.5108 - val_loss: 1.3518 - val_acc: 0.5241\n",
            "Epoch 11/20\n",
            "32000/32000 [==============================] - 26s 799us/step - loss: 1.3428 - acc: 0.5152 - val_loss: 1.3316 - val_acc: 0.5325\n",
            "Epoch 12/20\n",
            "17152/32000 [===============>..............] - ETA: 11s - loss: 1.3201 - acc: 0.5261"
          ],
          "name": "stdout"
        }
      ]
    },
    {
      "metadata": {
        "id": "sAecHVW6dtXm",
        "colab_type": "code",
        "colab": {
          "base_uri": "https://localhost:8080/",
          "height": 71
        },
        "outputId": "6ed5ee33-d700-4289-8f3c-ed3085e38a04"
      },
      "cell_type": "code",
      "source": [
        "scores = model.evaluate(X_test, y_test, verbose=1)\n",
        "print('Test loss:', scores[0])\n",
        "print('Test accuracy:', scores[1])\n"
      ],
      "execution_count": 41,
      "outputs": [
        {
          "output_type": "stream",
          "text": [
            "10000/10000 [==============================] - 3s 330us/step\n",
            "Test loss: 1.3395694305419923\n",
            "Test accuracy: 0.5719\n"
          ],
          "name": "stdout"
        }
      ]
    },
    {
      "metadata": {
        "id": "lEb2no-PfYB0",
        "colab_type": "code",
        "colab": {}
      },
      "cell_type": "code",
      "source": [
        ""
      ],
      "execution_count": 0,
      "outputs": []
    }
  ]
}